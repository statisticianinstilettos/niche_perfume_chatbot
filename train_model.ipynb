{
 "cells": [
  {
   "cell_type": "code",
   "execution_count": 9,
   "metadata": {},
   "outputs": [],
   "source": [
    "import pandas as pd\n",
    "import pickle\n",
    "from nltk.corpus import stopwords\n",
    "from nltk.stem import SnowballStemmer\n",
    "from nltk.tokenize import RegexpTokenizer\n",
    "from sklearn.feature_extraction.text import TfidfVectorizer\n",
    "from sklearn.metrics.pairwise import cosine_similarity\n",
    "from scipy import sparse\n",
    "import re\n",
    "import gensim\n",
    "from skimage import io\n",
    "import matplotlib.pyplot as plt\n",
    "from gensim.test.utils import get_tmpfile"
   ]
  },
  {
   "cell_type": "markdown",
   "metadata": {},
   "source": [
    "# Load Data"
   ]
  },
  {
   "cell_type": "code",
   "execution_count": 10,
   "metadata": {},
   "outputs": [
    {
     "name": "stdout",
     "output_type": "stream",
     "text": [
      "(2044, 6)\n"
     ]
    },
    {
     "data": {
      "text/html": [
       "<div>\n",
       "<style scoped>\n",
       "    .dataframe tbody tr th:only-of-type {\n",
       "        vertical-align: middle;\n",
       "    }\n",
       "\n",
       "    .dataframe tbody tr th {\n",
       "        vertical-align: top;\n",
       "    }\n",
       "\n",
       "    .dataframe thead th {\n",
       "        text-align: right;\n",
       "    }\n",
       "</style>\n",
       "<table border=\"1\" class=\"dataframe\">\n",
       "  <thead>\n",
       "    <tr style=\"text-align: right;\">\n",
       "      <th></th>\n",
       "      <th>perfume_id</th>\n",
       "      <th>title</th>\n",
       "      <th>image_url</th>\n",
       "      <th>description</th>\n",
       "      <th>notes</th>\n",
       "      <th>reviews</th>\n",
       "    </tr>\n",
       "  </thead>\n",
       "  <tbody>\n",
       "    <tr>\n",
       "      <th>0</th>\n",
       "      <td>0</td>\n",
       "      <td>Lost Cherry Eau de Parfum by TOM FORD Private ...</td>\n",
       "      <td>https://www.luckyscent.com/images/products/635...</td>\n",
       "      <td>lost cherri contrast scent reveal tempt dichot...</td>\n",
       "      <td>black cherri accord bitter almond griott syrup...</td>\n",
       "      <td>tri tom ford scent madison avenu store blown a...</td>\n",
       "    </tr>\n",
       "    <tr>\n",
       "      <th>1</th>\n",
       "      <td>1</td>\n",
       "      <td>Eleventh Hour Eau de Parfum by BYREDO</td>\n",
       "      <td>https://www.luckyscent.com/images/products/641...</td>\n",
       "      <td>seem funni say this eleventh hour first fragra...</td>\n",
       "      <td>ban timmur pepper bergamot carrot seed rum wil...</td>\n",
       "      <td>cannot get enough smell eleventh hour unfortun...</td>\n",
       "    </tr>\n",
       "    <tr>\n",
       "      <th>2</th>\n",
       "      <td>2</td>\n",
       "      <td>Flash Back In New York Eau de Parfum by Olfact...</td>\n",
       "      <td>https://www.luckyscent.com/images/products/615...</td>\n",
       "      <td>interest origin flanker like fuzzi pictur snow...</td>\n",
       "      <td>cumin clari sage white linen saffron violet tu...</td>\n",
       "      <td></td>\n",
       "    </tr>\n",
       "  </tbody>\n",
       "</table>\n",
       "</div>"
      ],
      "text/plain": [
       "   perfume_id                                              title  \\\n",
       "0           0  Lost Cherry Eau de Parfum by TOM FORD Private ...   \n",
       "1           1              Eleventh Hour Eau de Parfum by BYREDO   \n",
       "2           2  Flash Back In New York Eau de Parfum by Olfact...   \n",
       "\n",
       "                                           image_url  \\\n",
       "0  https://www.luckyscent.com/images/products/635...   \n",
       "1  https://www.luckyscent.com/images/products/641...   \n",
       "2  https://www.luckyscent.com/images/products/615...   \n",
       "\n",
       "                                         description  \\\n",
       "0  lost cherri contrast scent reveal tempt dichot...   \n",
       "1  seem funni say this eleventh hour first fragra...   \n",
       "2  interest origin flanker like fuzzi pictur snow...   \n",
       "\n",
       "                                               notes  \\\n",
       "0  black cherri accord bitter almond griott syrup...   \n",
       "1  ban timmur pepper bergamot carrot seed rum wil...   \n",
       "2  cumin clari sage white linen saffron violet tu...   \n",
       "\n",
       "                                             reviews  \n",
       "0  tri tom ford scent madison avenu store blown a...  \n",
       "1  cannot get enough smell eleventh hour unfortun...  \n",
       "2                                                     "
      ]
     },
     "execution_count": 10,
     "metadata": {},
     "output_type": "execute_result"
    }
   ],
   "source": [
    "# Load description features\n",
    "df = pd.read_pickle(\"data/perfume_data.pkl\")\n",
    "print df.shape\n",
    "df.head(3)"
   ]
  },
  {
   "cell_type": "code",
   "execution_count": 11,
   "metadata": {},
   "outputs": [],
   "source": [
    "def inspect_perfume(perfume_id):\n",
    "    '''Get data details for a perfume by ID.\n",
    "    Returns:\n",
    "        perfume name\n",
    "        perfume image\n",
    "        text description\n",
    "        notes\n",
    "        reviews\n",
    "    '''\n",
    "    single_perfume = df.query('perfume_id==@perfume_id')\n",
    "    print single_perfume.title\n",
    "    perfume_image = single_perfume.image_url.values[0]\n",
    "    image = io.imread(perfume_image)\n",
    "    plt.imshow(image)\n",
    "    plt.axis('off')\n",
    "    plt.show()\n",
    "\n",
    "    print \"Description:\"\n",
    "    print single_perfume.description.values\n",
    "    print \"Notes:\"\n",
    "    print single_perfume.notes.values\n",
    "    print \"Revies:\"\n",
    "    print \"There are {} reviews\".format(len(single_perfume.reviews))\n",
    "    print single_perfume.reviews.values"
   ]
  },
  {
   "cell_type": "code",
   "execution_count": 12,
   "metadata": {
    "scrolled": false
   },
   "outputs": [
    {
     "name": "stdout",
     "output_type": "stream",
     "text": [
      "278    Black V Parfum Extrait by Widian\n",
      "Name: title, dtype: object\n"
     ]
    },
    {
     "data": {
      "image/png": "[encoded data removed]",
      "text/plain": [
       "<Figure size 432x288 with 1 Axes>"
      ]
     },
     "metadata": {
      "needs_background": "light"
     },
     "output_type": "display_data"
    },
    {
     "name": "stdout",
     "output_type": "stream",
     "text": [
      "Description:\n",
      "[u'bold yet sophist luscious yet play black v snappi vivaci utter love floral driven parfum extrait recal verv vigor creativ 1920 s black v open blast energi combin spici cinnamon crisp tart lemon peel juici peach sumptuous heart fragranc narcot tuberos given natur vibranc light bitter orang blossom bright solar accord lead rich never heavi base warm cedar smooth vanilla dollop sweet caramel widian s wondrous fragranc combin best east west we re thrill report black v also includ tantal joy mix past present']\n",
      "Notes:\n",
      "[u'lemon peach cinnamon tuberos orang blossom solar accord cedar caramel vanilla']\n",
      "Revies:\n",
      "There are 1 reviews\n",
      "[u'peach brandi warm peach pie local honey dri powderi cedar pine perfect fall scent uniqu delici a delight retro femm orient wonder sparkl big and yes somewhat heavi cinnamon peach open fanfar inde bit callback bold sensual women fragranc 1930s 1940s no accid suppos note somewhat similar 1944 incarn bandit mani fragranc era sillag play around anoth win grown and sexi this sticki sweet begin heavi thick golden caramel howev middl base note give fizzi qualiti cut sweet showcas floral i m dubious complet note list swear smell jammi rose like rose rose musk montal fragranc thick richopul also surpris effervesc lemon cedar solar note combo must give qualiti think lean feminin masculin']\n"
     ]
    }
   ],
   "source": [
    "inspect_perfume(perfume_id=325)"
   ]
  },
  {
   "cell_type": "markdown",
   "metadata": {},
   "source": [
    "## Clean text"
   ]
  },
  {
   "cell_type": "code",
   "execution_count": 13,
   "metadata": {},
   "outputs": [],
   "source": [
    "def stem_words(text):\n",
    "    text = text.split()\n",
    "    stemmer = SnowballStemmer('english')\n",
    "    stemmed_words = [stemmer.stem(word) for word in text]\n",
    "    text = \" \".join(stemmed_words)\n",
    "    return text\n",
    "\n",
    "def make_lower_case(text):\n",
    "    return text.lower()\n",
    "\n",
    "def remove_stop_words(text):\n",
    "    text = text.split()\n",
    "    stops = set(stopwords.words(\"english\"))\n",
    "    text = [w for w in text if not w in stops]\n",
    "    text = \" \".join(text)\n",
    "    return text\n",
    "\n",
    "def remove_punctuation(text):\n",
    "    tokenizer = RegexpTokenizer(r'\\w+')\n",
    "    text = tokenizer.tokenize(text)\n",
    "    text = \" \".join(text)\n",
    "    return text"
   ]
  },
  {
   "cell_type": "code",
   "execution_count": 14,
   "metadata": {},
   "outputs": [],
   "source": [
    "df['description'] = df.description.apply(func=make_lower_case)\n",
    "df['description'] = df.description.apply(func=remove_stop_words)\n",
    "df['description'] = df.description.apply(func=remove_punctuation)\n",
    "df['description'] = df.description.apply(func=stem_words)"
   ]
  },
  {
   "cell_type": "code",
   "execution_count": 15,
   "metadata": {},
   "outputs": [],
   "source": [
    "df['notes'] = df.notes.apply(func=make_lower_case)\n",
    "df['notes'] = df.notes.apply(func=remove_punctuation)\n",
    "df['notes'] = df.notes.apply(func=stem_words)"
   ]
  },
  {
   "cell_type": "code",
   "execution_count": 16,
   "metadata": {},
   "outputs": [],
   "source": [
    "df['reviews'] = df.reviews.apply(func=make_lower_case)\n",
    "df['reviews'] = df.reviews.apply(func=remove_stop_words)\n",
    "df['reviews'] = df.reviews.apply(func=remove_punctuation)\n",
    "df['reviews'] = df.reviews.apply(func=stem_words)"
   ]
  },
  {
   "cell_type": "code",
   "execution_count": 17,
   "metadata": {},
   "outputs": [
    {
     "data": {
      "text/html": [
       "<div>\n",
       "<style scoped>\n",
       "    .dataframe tbody tr th:only-of-type {\n",
       "        vertical-align: middle;\n",
       "    }\n",
       "\n",
       "    .dataframe tbody tr th {\n",
       "        vertical-align: top;\n",
       "    }\n",
       "\n",
       "    .dataframe thead th {\n",
       "        text-align: right;\n",
       "    }\n",
       "</style>\n",
       "<table border=\"1\" class=\"dataframe\">\n",
       "  <thead>\n",
       "    <tr style=\"text-align: right;\">\n",
       "      <th></th>\n",
       "      <th>perfume_id</th>\n",
       "      <th>title</th>\n",
       "      <th>image_url</th>\n",
       "      <th>description</th>\n",
       "      <th>notes</th>\n",
       "      <th>reviews</th>\n",
       "    </tr>\n",
       "  </thead>\n",
       "  <tbody>\n",
       "    <tr>\n",
       "      <th>0</th>\n",
       "      <td>0</td>\n",
       "      <td>Lost Cherry Eau de Parfum by TOM FORD Private ...</td>\n",
       "      <td>https://www.luckyscent.com/images/products/635...</td>\n",
       "      <td>lost cherri contrast scent reveal tempt dichot...</td>\n",
       "      <td>black cherri accord bitter almond griott syrup...</td>\n",
       "      <td>tri tom ford scent madison avenu store blown a...</td>\n",
       "    </tr>\n",
       "  </tbody>\n",
       "</table>\n",
       "</div>"
      ],
      "text/plain": [
       "   perfume_id                                              title  \\\n",
       "0           0  Lost Cherry Eau de Parfum by TOM FORD Private ...   \n",
       "\n",
       "                                           image_url  \\\n",
       "0  https://www.luckyscent.com/images/products/635...   \n",
       "\n",
       "                                         description  \\\n",
       "0  lost cherri contrast scent reveal tempt dichot...   \n",
       "\n",
       "                                               notes  \\\n",
       "0  black cherri accord bitter almond griott syrup...   \n",
       "\n",
       "                                             reviews  \n",
       "0  tri tom ford scent madison avenu store blown a...  "
      ]
     },
     "execution_count": 17,
     "metadata": {},
     "output_type": "execute_result"
    }
   ],
   "source": [
    "df.head(1)"
   ]
  },
  {
   "cell_type": "markdown",
   "metadata": {},
   "source": [
    "# TF-IDF Model"
   ]
  },
  {
   "cell_type": "code",
   "execution_count": 18,
   "metadata": {},
   "outputs": [],
   "source": [
    "df['full_document'] = df['description'] + ' ' + df['notes'] + ' ' + df['reviews']"
   ]
  },
  {
   "cell_type": "code",
   "execution_count": 19,
   "metadata": {},
   "outputs": [
    {
     "name": "stdout",
     "output_type": "stream",
     "text": [
      "(2044, 8359)\n"
     ]
    }
   ],
   "source": [
    "#Fit TFIDF \n",
    "#Learn vocabulary and tfidf from all style_ids.\n",
    "tf = TfidfVectorizer(analyzer='word', \n",
    "                     min_df=10,\n",
    "                     ngram_range=(1, 2),\n",
    "                     #max_features=1000,\n",
    "                     stop_words='english')\n",
    "tf.fit(df['full_document'])\n",
    "\n",
    "#Transform style_id products to document-term matrix.\n",
    "tfidf_matrix = tf.transform(df['full_document'])\n",
    "pickle.dump(tf, open(\"models/tfidf_model.pkl\", \"wb\"))\n",
    "\n",
    "print tfidf_matrix.shape"
   ]
  },
  {
   "cell_type": "code",
   "execution_count": 20,
   "metadata": {},
   "outputs": [
    {
     "name": "stdout",
     "output_type": "stream",
     "text": [
      "(2044, 500)\n"
     ]
    }
   ],
   "source": [
    "# Compress with SVD\n",
    "from sklearn.decomposition import TruncatedSVD\n",
    "svd = TruncatedSVD(n_components=500)\n",
    "latent_matrix = svd.fit_transform(tfidf_matrix)\n",
    "pickle.dump(svd, open(\"models/svd_model.pkl\", \"wb\"))\n",
    "\n",
    "print latent_matrix.shape"
   ]
  },
  {
   "cell_type": "code",
   "execution_count": 21,
   "metadata": {},
   "outputs": [
    {
     "name": "stdout",
     "output_type": "stream",
     "text": [
      "(2044, 25)\n"
     ]
    }
   ],
   "source": [
    "n = 25 #pick components\n",
    "#Use elbow and cumulative plot to pick number of components. \n",
    "#Need high ammount of variance explained. \n",
    "doc_labels = df.title\n",
    "svd_feature_matrix = pd.DataFrame(latent_matrix[:,0:n] ,index=doc_labels)\n",
    "print svd_feature_matrix.shape\n",
    "svd_feature_matrix.head()\n",
    "\n",
    "pickle.dump(svd_feature_matrix, open(\"models/lsa_embeddings.pkl\", \"wb\"))"
   ]
  },
  {
   "cell_type": "markdown",
   "metadata": {},
   "source": [
    "# Doc2Vec Model"
   ]
  },
  {
   "cell_type": "markdown",
   "metadata": {},
   "source": [
    "Doc to vec preverves word order in the embeddings, so \"I hate rose\" and \"I love rose\" will be treated differently."
   ]
  },
  {
   "cell_type": "code",
   "execution_count": 22,
   "metadata": {},
   "outputs": [],
   "source": [
    "#Use reviews, descriptions, and notes for vocabulary \n",
    "reviews = df.reviews.values.tolist()\n",
    "descriptions = df.description.values.tolist()\n",
    "#notes = df.notes.values.tolist() #not using notes because sematics and order of list is not meaningfull. \n",
    "\n",
    "documents = []\n",
    "for i in range(len(df)):\n",
    "    mystr = reviews[i]\n",
    "    mystr = mystr + descriptions[i]\n",
    "    documents.append(re.sub(\"[^\\w]\", \" \",  mystr).split())"
   ]
  },
  {
   "cell_type": "code",
   "execution_count": 23,
   "metadata": {},
   "outputs": [
    {
     "name": "stdout",
     "output_type": "stream",
     "text": [
      "2044\n",
      "2044\n"
     ]
    }
   ],
   "source": [
    "print len(df)\n",
    "print len(documents)"
   ]
  },
  {
   "cell_type": "code",
   "execution_count": 24,
   "metadata": {},
   "outputs": [
    {
     "data": {
      "text/plain": [
       "perfume_id                                                     325\n",
       "title                             Black V Parfum Extrait by Widian\n",
       "image_url        https://www.luckyscent.com/images/products/709...\n",
       "description      bold yet sophist luscious yet play black v sna...\n",
       "notes            lemon peach cinnamon tubero orang blossom sola...\n",
       "reviews          peach brandi warm peach pie local honey dri po...\n",
       "full_document    bold yet sophist luscious yet play black v sna...\n",
       "Name: 278, dtype: object"
      ]
     },
     "execution_count": 24,
     "metadata": {},
     "output_type": "execute_result"
    }
   ],
   "source": [
    "df.loc[278]"
   ]
  },
  {
   "cell_type": "code",
   "execution_count": 25,
   "metadata": {},
   "outputs": [],
   "source": [
    "formatted_documents = [gensim.models.doc2vec.TaggedDocument(doc, [i]) for i, doc in enumerate(documents)]\n",
    "\n",
    "model = gensim.models.doc2vec.Doc2Vec(vector_size=25, min_count=5, epochs=200, seed=0, window=3, dm=1)\n",
    "model.build_vocab(formatted_documents)"
   ]
  },
  {
   "cell_type": "code",
   "execution_count": 26,
   "metadata": {},
   "outputs": [
    {
     "name": "stdout",
     "output_type": "stream",
     "text": [
      "CPU times: user 2min 46s, sys: 7.81 s, total: 2min 54s\n",
      "Wall time: 1min 22s\n"
     ]
    }
   ],
   "source": [
    "%time model.train(formatted_documents, total_examples=model.corpus_count, epochs=model.epochs)"
   ]
  },
  {
   "cell_type": "code",
   "execution_count": 27,
   "metadata": {},
   "outputs": [],
   "source": [
    "fname = get_tmpfile(\"models/doc2vec_model\")\n",
    "model.save(\"models/doc2vec_model\")\n",
    "model = gensim.models.doc2vec.Doc2Vec.load(\"./models/doc2vec_model\")"
   ]
  },
  {
   "cell_type": "code",
   "execution_count": 37,
   "metadata": {},
   "outputs": [
    {
     "data": {
      "text/plain": [
       "array([-0.17191751, -0.8144744 , -0.06675702,  0.02599917, -0.16789891,\n",
       "       -0.620023  ,  0.06134477, -0.3985729 ,  0.0493024 ,  0.3127219 ,\n",
       "        0.16736154,  0.72309244, -0.480727  ,  0.36376455,  0.504173  ,\n",
       "        0.26385027, -0.39857888,  0.24427186, -0.33695567,  0.17218815,\n",
       "        0.26852754,  0.16747576, -0.28592792,  0.55985636,  0.35524458],\n",
       "      dtype=float32)"
      ]
     },
     "execution_count": 37,
     "metadata": {},
     "output_type": "execute_result"
    }
   ],
   "source": [
    "vector = model.infer_vector(doc_words=[\"this\", \"is\", \"a\", \"test\"], epochs=50)\n",
    "vector"
   ]
  },
  {
   "cell_type": "code",
   "execution_count": 31,
   "metadata": {},
   "outputs": [
    {
     "name": "stdout",
     "output_type": "stream",
     "text": [
      "(2044, 25)\n"
     ]
    }
   ],
   "source": [
    "doctovec_feature_matrix = pd.DataFrame(model.docvecs.vectors_docs, index=df.title)\n",
    "print doctovec_feature_matrix.shape\n",
    "doctovec_feature_matrix.head(3)\n",
    "pickle.dump(doctovec_feature_matrix, open(\"models/doctovec_embeddings.pkl\", \"wb\"))"
   ]
  },
  {
   "cell_type": "code",
   "execution_count": null,
   "metadata": {},
   "outputs": [],
   "source": []
  }
 ],
 "metadata": {
  "kernelspec": {
   "display_name": "niche_perfume_chatbot",
   "language": "python",
   "name": "niche_perfume_chatbot"
  },
  "language_info": {
   "codemirror_mode": {
    "name": "ipython",
    "version": 3
   },
   "file_extension": ".py",
   "mimetype": "text/x-python",
   "name": "python",
   "nbconvert_exporter": "python",
   "pygments_lexer": "ipython3",
   "version": "3.9.4"
  },
  "toc": {
   "colors": {
    "hover_highlight": "#DAA520",
    "navigate_num": "#000000",
    "navigate_text": "#333333",
    "running_highlight": "#FF0000",
    "selected_highlight": "#FFD700",
    "sidebar_border": "#EEEEEE",
    "wrapper_background": "#FFFFFF"
   },
   "moveMenuLeft": true,
   "nav_menu": {
    "height": "12px",
    "width": "252px"
   },
   "navigate_menu": true,
   "number_sections": true,
   "sideBar": true,
   "skip_h1_title": false,
   "threshold": 4,
   "toc_cell": false,
   "toc_section_display": "block",
   "toc_window_display": false,
   "widenNotebook": false
  }
 },
 "nbformat": 4,
 "nbformat_minor": 2
}
