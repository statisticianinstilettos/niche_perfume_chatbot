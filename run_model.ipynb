{
 "cells": [
  {
   "cell_type": "markdown",
   "metadata": {},
   "source": [
    "# Perfume Chatbot Information Retrieval Recommendations Demo"
   ]
  },
  {
   "cell_type": "code",
   "execution_count": 2,
   "metadata": {},
   "outputs": [
    {
     "name": "stderr",
     "output_type": "stream",
     "text": [
      "[nltk_data] Downloading package vader_lexicon to\n",
      "[nltk_data]     /Users/clairelongo/nltk_data...\n",
      "[nltk_data]   Package vader_lexicon is already up-to-date!\n",
      "[nltk_data] Downloading package stopwords to\n",
      "[nltk_data]     /Users/clairelongo/nltk_data...\n",
      "[nltk_data]   Package stopwords is already up-to-date!\n"
     ]
    }
   ],
   "source": [
    "from src.information_retrieval_model import Perfume_Information_Retrieval_Model"
   ]
  },
  {
   "cell_type": "code",
   "execution_count": 3,
   "metadata": {},
   "outputs": [
    {
     "name": "stderr",
     "output_type": "stream",
     "text": [
      "/Users/clairelongo/Desktop/niche_perfume_chatbot/venv/lib/python3.9/site-packages/sklearn/base.py:329: UserWarning: Trying to unpickle estimator TfidfTransformer from version 0.20.0 when using version 0.23.0. This might lead to breaking code or invalid results. Use at your own risk.\n",
      "  warnings.warn(\n",
      "/Users/clairelongo/Desktop/niche_perfume_chatbot/venv/lib/python3.9/site-packages/sklearn/base.py:329: UserWarning: Trying to unpickle estimator TfidfVectorizer from version 0.20.0 when using version 0.23.0. This might lead to breaking code or invalid results. Use at your own risk.\n",
      "  warnings.warn(\n",
      "/Users/clairelongo/Desktop/niche_perfume_chatbot/venv/lib/python3.9/site-packages/sklearn/utils/deprecation.py:143: FutureWarning: The sklearn.decomposition.truncated_svd module is  deprecated in version 0.22 and will be removed in version 0.24. The corresponding classes / functions should instead be imported from sklearn.decomposition. Anything that cannot be imported from sklearn.decomposition is now part of the private API.\n",
      "  warnings.warn(message, FutureWarning)\n",
      "/Users/clairelongo/Desktop/niche_perfume_chatbot/venv/lib/python3.9/site-packages/sklearn/base.py:329: UserWarning: Trying to unpickle estimator TruncatedSVD from version 0.20.0 when using version 0.23.0. This might lead to breaking code or invalid results. Use at your own risk.\n",
      "  warnings.warn(\n"
     ]
    }
   ],
   "source": [
    "model = Perfume_Information_Retrieval_Model()"
   ]
  },
  {
   "cell_type": "code",
   "execution_count": 34,
   "metadata": {},
   "outputs": [
    {
     "data": {
      "text/html": [
       "<div>\n",
       "<style scoped>\n",
       "    .dataframe tbody tr th:only-of-type {\n",
       "        vertical-align: middle;\n",
       "    }\n",
       "\n",
       "    .dataframe tbody tr th {\n",
       "        vertical-align: top;\n",
       "    }\n",
       "\n",
       "    .dataframe thead th {\n",
       "        text-align: right;\n",
       "    }\n",
       "</style>\n",
       "<table border=\"1\" class=\"dataframe\">\n",
       "  <thead>\n",
       "    <tr style=\"text-align: right;\">\n",
       "      <th></th>\n",
       "      <th>perfume_id</th>\n",
       "      <th>title</th>\n",
       "      <th>image_url</th>\n",
       "      <th>description</th>\n",
       "      <th>notes</th>\n",
       "      <th>reviews</th>\n",
       "    </tr>\n",
       "  </thead>\n",
       "  <tbody>\n",
       "    <tr>\n",
       "      <th>0</th>\n",
       "      <td>0</td>\n",
       "      <td>Lost Cherry Eau de Parfum by TOM FORD Private ...</td>\n",
       "      <td>https://www.luckyscent.com/images/products/635...</td>\n",
       "      <td>lost cherri contrast scent reveal tempt dichot...</td>\n",
       "      <td>black cherri accord bitter almond griott syrup...</td>\n",
       "      <td>tri tom ford scent madison avenu store blown a...</td>\n",
       "    </tr>\n",
       "    <tr>\n",
       "      <th>1</th>\n",
       "      <td>1</td>\n",
       "      <td>Eleventh Hour Eau de Parfum by BYREDO</td>\n",
       "      <td>https://www.luckyscent.com/images/products/641...</td>\n",
       "      <td>seem funni say this eleventh hour first fragra...</td>\n",
       "      <td>ban timmur pepper bergamot carrot seed rum wil...</td>\n",
       "      <td>cannot get enough smell eleventh hour unfortun...</td>\n",
       "    </tr>\n",
       "    <tr>\n",
       "      <th>2</th>\n",
       "      <td>2</td>\n",
       "      <td>Flash Back In New York Eau de Parfum by Olfact...</td>\n",
       "      <td>https://www.luckyscent.com/images/products/615...</td>\n",
       "      <td>interest origin flanker like fuzzi pictur snow...</td>\n",
       "      <td>cumin clari sage white linen saffron violet tu...</td>\n",
       "      <td></td>\n",
       "    </tr>\n",
       "    <tr>\n",
       "      <th>3</th>\n",
       "      <td>3</td>\n",
       "      <td>Jubilation XXV Eau de Parfum by Amouage</td>\n",
       "      <td>https://www.luckyscent.com/images/products/418...</td>\n",
       "      <td>unabash opul noth minim celebratori elixir hap...</td>\n",
       "      <td>frankincens labdanum cist coriand davana black...</td>\n",
       "      <td>you re king charg free stress huge field beaut...</td>\n",
       "    </tr>\n",
       "    <tr>\n",
       "      <th>4</th>\n",
       "      <td>4</td>\n",
       "      <td>Gypsy Water Eau de Parfum by BYREDO</td>\n",
       "      <td>https://www.luckyscent.com/images/products/641...</td>\n",
       "      <td>entranc shape shifter one popular fragranc byr...</td>\n",
       "      <td>bergamot lemon pepper junip berri incens pine ...</td>\n",
       "      <td>i m surpris 3 star less review one far one fav...</td>\n",
       "    </tr>\n",
       "  </tbody>\n",
       "</table>\n",
       "</div>"
      ],
      "text/plain": [
       "   perfume_id                                              title  \\\n",
       "0           0  Lost Cherry Eau de Parfum by TOM FORD Private ...   \n",
       "1           1              Eleventh Hour Eau de Parfum by BYREDO   \n",
       "2           2  Flash Back In New York Eau de Parfum by Olfact...   \n",
       "3           3            Jubilation XXV Eau de Parfum by Amouage   \n",
       "4           4                Gypsy Water Eau de Parfum by BYREDO   \n",
       "\n",
       "                                           image_url  \\\n",
       "0  https://www.luckyscent.com/images/products/635...   \n",
       "1  https://www.luckyscent.com/images/products/641...   \n",
       "2  https://www.luckyscent.com/images/products/615...   \n",
       "3  https://www.luckyscent.com/images/products/418...   \n",
       "4  https://www.luckyscent.com/images/products/641...   \n",
       "\n",
       "                                         description  \\\n",
       "0  lost cherri contrast scent reveal tempt dichot...   \n",
       "1  seem funni say this eleventh hour first fragra...   \n",
       "2  interest origin flanker like fuzzi pictur snow...   \n",
       "3  unabash opul noth minim celebratori elixir hap...   \n",
       "4  entranc shape shifter one popular fragranc byr...   \n",
       "\n",
       "                                               notes  \\\n",
       "0  black cherri accord bitter almond griott syrup...   \n",
       "1  ban timmur pepper bergamot carrot seed rum wil...   \n",
       "2  cumin clari sage white linen saffron violet tu...   \n",
       "3  frankincens labdanum cist coriand davana black...   \n",
       "4  bergamot lemon pepper junip berri incens pine ...   \n",
       "\n",
       "                                             reviews  \n",
       "0  tri tom ford scent madison avenu store blown a...  \n",
       "1  cannot get enough smell eleventh hour unfortun...  \n",
       "2                                                     \n",
       "3  you re king charg free stress huge field beaut...  \n",
       "4  i m surpris 3 star less review one far one fav...  "
      ]
     },
     "execution_count": 34,
     "metadata": {},
     "output_type": "execute_result"
    }
   ],
   "source": [
    "import pandas as pd \n",
    "df = pd.read_pickle(\"data/perfume_data.pkl\")\n",
    "df.head()"
   ]
  },
  {
   "cell_type": "code",
   "execution_count": 37,
   "metadata": {},
   "outputs": [],
   "source": [
    "request_body = \"I love miu miu. Like Liily of the valley. Need something to match my spring wardrobe\"\n",
    "recs = model.query_similar_perfumes(message, 1)\n",
    "\n",
    "i=0\n",
    "\n",
    "recs = model.query_similar_perfumes(request_body, 1)\n",
    "perfume_name = recs.index.tolist()[i]\n",
    "perfume_score = round(recs.iloc[i].ensemble_similarity,4)\n",
    "perfume_notes = df.query('title==@perfume_name').notes.values[0]\n",
    "perfume_image = df.query('title==@perfume_name').image_url.values[0]\n",
    "\n"
   ]
  },
  {
   "cell_type": "code",
   "execution_count": 38,
   "metadata": {},
   "outputs": [
    {
     "data": {
      "text/plain": [
       "'Debut Eau de Parfum by Parfums DelRae'"
      ]
     },
     "execution_count": 38,
     "metadata": {},
     "output_type": "execute_result"
    }
   ],
   "source": [
    "perfume_name"
   ]
  },
  {
   "cell_type": "code",
   "execution_count": 39,
   "metadata": {},
   "outputs": [
    {
     "data": {
      "text/plain": [
       "0.7313"
      ]
     },
     "execution_count": 39,
     "metadata": {},
     "output_type": "execute_result"
    }
   ],
   "source": [
    "perfume_score"
   ]
  },
  {
   "cell_type": "code",
   "execution_count": 40,
   "metadata": {},
   "outputs": [
    {
     "data": {
      "text/plain": [
       "'bergamot lime green leav ylang ylang lili valley linden blossom vetiv sandalwood musk'"
      ]
     },
     "execution_count": 40,
     "metadata": {},
     "output_type": "execute_result"
    }
   ],
   "source": [
    "perfume_notes"
   ]
  },
  {
   "cell_type": "code",
   "execution_count": 41,
   "metadata": {},
   "outputs": [
    {
     "data": {
      "text/plain": [
       "'https://www.luckyscent.com/images/products/37902.jpg?width=400&404=product.png'"
      ]
     },
     "execution_count": 41,
     "metadata": {},
     "output_type": "execute_result"
    }
   ],
   "source": [
    "perfume_image"
   ]
  },
  {
   "cell_type": "code",
   "execution_count": 42,
   "metadata": {},
   "outputs": [
    {
     "ename": "SyntaxError",
     "evalue": "invalid syntax (<ipython-input-42-78ae76f968a1>, line 1)",
     "output_type": "error",
     "traceback": [
      "\u001b[0;36m  File \u001b[0;32m\"<ipython-input-42-78ae76f968a1>\"\u001b[0;36m, line \u001b[0;32m1\u001b[0m\n\u001b[0;31m    https://www.google.com/search?q=Debut+Eau+de+Parfum+by+Parfums+DelRae&source=lnms&tbm=shop\u001b[0m\n\u001b[0m          ^\u001b[0m\n\u001b[0;31mSyntaxError\u001b[0m\u001b[0;31m:\u001b[0m invalid syntax\n"
     ]
    }
   ],
   "source": [
    "https://www.google.com/search?q=Debut+Eau+de+Parfum+by+Parfums+DelRae&source=lnms&tbm=shop"
   ]
  },
  {
   "cell_type": "code",
   "execution_count": 48,
   "metadata": {},
   "outputs": [
    {
     "data": {
      "text/plain": [
       "'https://www.google.com/search?q=Debut+Eau+de+Parfum+by+Parfums+DelRae&source=lnms&tbm=shop'"
      ]
     },
     "execution_count": 48,
     "metadata": {},
     "output_type": "execute_result"
    }
   ],
   "source": [
    "\"https://www.google.com/search?q=\" + perfume_name.replace(\" \", \"+\") + \"&source=lnms&tbm=shop\""
   ]
  },
  {
   "cell_type": "code",
   "execution_count": null,
   "metadata": {},
   "outputs": [],
   "source": [
    "strings = ['do', 're', 'mi']\n",
    ">>> ','.join(strings)"
   ]
  },
  {
   "cell_type": "code",
   "execution_count": 47,
   "metadata": {},
   "outputs": [
    {
     "data": {
      "text/plain": [
       "'Debut+Eau+de+Parfum+by+Parfums+DelRae'"
      ]
     },
     "execution_count": 47,
     "metadata": {},
     "output_type": "execute_result"
    }
   ],
   "source": [
    "perfume_name.replace(\" \", \"+\")"
   ]
  },
  {
   "cell_type": "code",
   "execution_count": null,
   "metadata": {},
   "outputs": [],
   "source": []
  }
 ],
 "metadata": {
  "kernelspec": {
   "display_name": "niche_perfume_chatbot",
   "language": "python",
   "name": "niche_perfume_chatbot"
  },
  "language_info": {
   "codemirror_mode": {
    "name": "ipython",
    "version": 3
   },
   "file_extension": ".py",
   "mimetype": "text/x-python",
   "name": "python",
   "nbconvert_exporter": "python",
   "pygments_lexer": "ipython3",
   "version": "3.9.4"
  },
  "toc": {
   "colors": {
    "hover_highlight": "#DAA520",
    "navigate_num": "#000000",
    "navigate_text": "#333333",
    "running_highlight": "#FF0000",
    "selected_highlight": "#FFD700",
    "sidebar_border": "#EEEEEE",
    "wrapper_background": "#FFFFFF"
   },
   "moveMenuLeft": true,
   "nav_menu": {
    "height": "12px",
    "width": "252px"
   },
   "navigate_menu": true,
   "number_sections": true,
   "sideBar": true,
   "skip_h1_title": false,
   "threshold": 4,
   "toc_cell": false,
   "toc_section_display": "block",
   "toc_window_display": false,
   "widenNotebook": false
  }
 },
 "nbformat": 4,
 "nbformat_minor": 4
}
